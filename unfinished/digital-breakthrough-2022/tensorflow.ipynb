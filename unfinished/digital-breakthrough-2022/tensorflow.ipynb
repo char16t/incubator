{
  "nbformat": 4,
  "nbformat_minor": 0,
  "metadata": {
    "colab": {
      "name": "tensorflow.ipynb",
      "provenance": [],
      "authorship_tag": "ABX9TyNqIyakmh5XXIvxt517Fn2Q"
    },
    "kernelspec": {
      "name": "python3",
      "display_name": "Python 3"
    },
    "language_info": {
      "name": "python"
    }
  },
  "cells": [
    {
      "cell_type": "code",
      "execution_count": null,
      "metadata": {
        "id": "MbHl4b9IrYqj"
      },
      "outputs": [],
      "source": []
    }
  ]
}